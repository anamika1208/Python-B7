{
 "cells": [
  {
   "cell_type": "markdown",
   "metadata": {},
   "source": [
    "# B7 Day 4 Assignment"
   ]
  },
  {
   "cell_type": "markdown",
   "metadata": {},
   "source": [
    "# Q- Print the first armstrong number in the range of 1042000 to 702648265 and exit the loop as soon as you encounter the first armstrong number. Use While Loop."
   ]
  },
  {
   "cell_type": "code",
   "execution_count": null,
   "metadata": {},
   "outputs": [
    {
     "name": "stdout",
     "output_type": "stream",
     "text": [
      "the first armstrong number is 1741725\n"
     ]
    }
   ],
   "source": [
    "for i in range (1042000,702648265):\n",
    "    order=len(str(i))\n",
    "    sum=0\n",
    "    temp=i\n",
    "    while temp>0:\n",
    "        digit=temp%10\n",
    "        sum+=digit**order\n",
    "        temp//=10\n",
    "        if i==sum:\n",
    "            print(\"the first armstrong number is\",i)\n",
    "            break"
   ]
  },
  {
   "cell_type": "code",
   "execution_count": null,
   "metadata": {},
   "outputs": [],
   "source": []
  }
 ],
 "metadata": {
  "kernelspec": {
   "display_name": "Python 3",
   "language": "python",
   "name": "python3"
  },
  "language_info": {
   "codemirror_mode": {
    "name": "ipython",
    "version": 3
   },
   "file_extension": ".py",
   "mimetype": "text/x-python",
   "name": "python",
   "nbconvert_exporter": "python",
   "pygments_lexer": "ipython3",
   "version": "3.8.3"
  }
 },
 "nbformat": 4,
 "nbformat_minor": 4
}
