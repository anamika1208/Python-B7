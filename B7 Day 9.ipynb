{
 "cells": [
  {
   "cell_type": "markdown",
   "metadata": {},
   "source": [
    "# Day 9 Assignment"
   ]
  },
  {
   "cell_type": "markdown",
   "metadata": {},
   "source": [
    "# Q1- Write a python function for finding is a given number prime or not and do Unit testing on it using PyLint and Unittest library."
   ]
  },
  {
   "cell_type": "code",
   "execution_count": 1,
   "metadata": {},
   "outputs": [
    {
     "name": "stdout",
     "output_type": "stream",
     "text": [
      "Writing check_prime_number.py\n"
     ]
    }
   ],
   "source": [
    "%%writefile check_prime_number.py\n",
    "\n",
    "def prime(num):\n",
    "   \n",
    "    if num > 1:\n",
    "        for i in range(2, num):\n",
    "            if (num % i) == 0:\n",
    "                break\n",
    "            return print(\"It is a Prime Number\")\n",
    "    return print(\"It is not a Prime Number\")\n",
    "n = int(input(\"enter the number :\"))\n",
    "prime(n)"
   ]
  },
  {
   "cell_type": "code",
   "execution_count": 2,
   "metadata": {},
   "outputs": [
    {
     "name": "stdout",
     "output_type": "stream",
     "text": [
      "************* Module check_prime_number\n",
      "check_prime_number.py:3:0: C0303: Trailing whitespace (trailing-whitespace)\n",
      "check_prime_number.py:1:0: C0114: Missing module docstring (missing-module-docstring)\n",
      "check_prime_number.py:2:0: C0116: Missing function or method docstring (missing-function-docstring)\n",
      "\n",
      "-----------------------------------\n",
      "\n",
      "Your code has been rated at 6.67/10\n",
      "\n",
      "\n",
      "\n"
     ]
    }
   ],
   "source": [
    "! pylint \"check_prime_number.py\""
   ]
  },
  {
   "cell_type": "markdown",
   "metadata": {},
   "source": [
    "# Q2- Make a small generator program for returning armstrong numbers in between 1-1000 in a generator object."
   ]
  },
  {
   "cell_type": "code",
   "execution_count": 5,
   "metadata": {},
   "outputs": [],
   "source": [
    "def Armst():\n",
    "    for i in range(1,1000):\n",
    "        temp = i\n",
    "        sum = 0\n",
    "        while temp > 0:\n",
    "            a = temp % 10\n",
    "            sum = sum + a ** 3\n",
    "            temp = temp // 10\n",
    "        if sum == i:\n",
    "            yield i"
   ]
  },
  {
   "cell_type": "code",
   "execution_count": 6,
   "metadata": {},
   "outputs": [],
   "source": [
    "Armstrong_Number = list(Armst())"
   ]
  },
  {
   "cell_type": "code",
   "execution_count": 7,
   "metadata": {},
   "outputs": [
    {
     "data": {
      "text/plain": [
       "[1, 153, 370, 371, 407]"
      ]
     },
     "execution_count": 7,
     "metadata": {},
     "output_type": "execute_result"
    }
   ],
   "source": [
    "Armstrong_Number"
   ]
  },
  {
   "cell_type": "code",
   "execution_count": null,
   "metadata": {},
   "outputs": [],
   "source": []
  }
 ],
 "metadata": {
  "kernelspec": {
   "display_name": "Python 3",
   "language": "python",
   "name": "python3"
  },
  "language_info": {
   "codemirror_mode": {
    "name": "ipython",
    "version": 3
   },
   "file_extension": ".py",
   "mimetype": "text/x-python",
   "name": "python",
   "nbconvert_exporter": "python",
   "pygments_lexer": "ipython3",
   "version": "3.8.3"
  }
 },
 "nbformat": 4,
 "nbformat_minor": 4
}
